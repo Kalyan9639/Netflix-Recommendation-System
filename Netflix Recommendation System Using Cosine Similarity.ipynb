{
 "cells": [
  {
   "cell_type": "markdown",
   "id": "06a904d2-2300-4ebf-9822-188dde9b11a9",
   "metadata": {},
   "source": [
    "# Netflix Recommendation System:"
   ]
  },
  {
   "cell_type": "markdown",
   "id": "e479c91e-812b-419f-9ebf-dd878f7fd0b4",
   "metadata": {},
   "source": [
    "## In this notebook, I had created a Netflix Recommendation System Using Cosine Similarity. You can download the dataset from [here.](https://www.kaggle.com/datasets/shivamb/netflix-shows)"
   ]
  },
  {
   "cell_type": "code",
   "execution_count": 1,
   "id": "694660b7-8e67-4af3-aee0-0b86030fa669",
   "metadata": {},
   "outputs": [
    {
     "data": {
      "text/html": [
       "<div>\n",
       "<style scoped>\n",
       "    .dataframe tbody tr th:only-of-type {\n",
       "        vertical-align: middle;\n",
       "    }\n",
       "\n",
       "    .dataframe tbody tr th {\n",
       "        vertical-align: top;\n",
       "    }\n",
       "\n",
       "    .dataframe thead th {\n",
       "        text-align: right;\n",
       "    }\n",
       "</style>\n",
       "<table border=\"1\" class=\"dataframe\">\n",
       "  <thead>\n",
       "    <tr style=\"text-align: right;\">\n",
       "      <th></th>\n",
       "      <th>show_id</th>\n",
       "      <th>type</th>\n",
       "      <th>title</th>\n",
       "      <th>director</th>\n",
       "      <th>cast</th>\n",
       "      <th>country</th>\n",
       "      <th>date_added</th>\n",
       "      <th>release_year</th>\n",
       "      <th>rating</th>\n",
       "      <th>duration</th>\n",
       "      <th>listed_in</th>\n",
       "      <th>description</th>\n",
       "    </tr>\n",
       "  </thead>\n",
       "  <tbody>\n",
       "    <tr>\n",
       "      <th>0</th>\n",
       "      <td>s1</td>\n",
       "      <td>Movie</td>\n",
       "      <td>Dick Johnson Is Dead</td>\n",
       "      <td>Kirsten Johnson</td>\n",
       "      <td>NaN</td>\n",
       "      <td>United States</td>\n",
       "      <td>September 25, 2021</td>\n",
       "      <td>2020</td>\n",
       "      <td>PG-13</td>\n",
       "      <td>90 min</td>\n",
       "      <td>Documentaries</td>\n",
       "      <td>As her father nears the end of his life, filmm...</td>\n",
       "    </tr>\n",
       "    <tr>\n",
       "      <th>1</th>\n",
       "      <td>s2</td>\n",
       "      <td>TV Show</td>\n",
       "      <td>Blood &amp; Water</td>\n",
       "      <td>NaN</td>\n",
       "      <td>Ama Qamata, Khosi Ngema, Gail Mabalane, Thaban...</td>\n",
       "      <td>South Africa</td>\n",
       "      <td>September 24, 2021</td>\n",
       "      <td>2021</td>\n",
       "      <td>TV-MA</td>\n",
       "      <td>2 Seasons</td>\n",
       "      <td>International TV Shows, TV Dramas, TV Mysteries</td>\n",
       "      <td>After crossing paths at a party, a Cape Town t...</td>\n",
       "    </tr>\n",
       "    <tr>\n",
       "      <th>2</th>\n",
       "      <td>s3</td>\n",
       "      <td>TV Show</td>\n",
       "      <td>Ganglands</td>\n",
       "      <td>Julien Leclercq</td>\n",
       "      <td>Sami Bouajila, Tracy Gotoas, Samuel Jouy, Nabi...</td>\n",
       "      <td>NaN</td>\n",
       "      <td>September 24, 2021</td>\n",
       "      <td>2021</td>\n",
       "      <td>TV-MA</td>\n",
       "      <td>1 Season</td>\n",
       "      <td>Crime TV Shows, International TV Shows, TV Act...</td>\n",
       "      <td>To protect his family from a powerful drug lor...</td>\n",
       "    </tr>\n",
       "    <tr>\n",
       "      <th>3</th>\n",
       "      <td>s4</td>\n",
       "      <td>TV Show</td>\n",
       "      <td>Jailbirds New Orleans</td>\n",
       "      <td>NaN</td>\n",
       "      <td>NaN</td>\n",
       "      <td>NaN</td>\n",
       "      <td>September 24, 2021</td>\n",
       "      <td>2021</td>\n",
       "      <td>TV-MA</td>\n",
       "      <td>1 Season</td>\n",
       "      <td>Docuseries, Reality TV</td>\n",
       "      <td>Feuds, flirtations and toilet talk go down amo...</td>\n",
       "    </tr>\n",
       "    <tr>\n",
       "      <th>4</th>\n",
       "      <td>s5</td>\n",
       "      <td>TV Show</td>\n",
       "      <td>Kota Factory</td>\n",
       "      <td>NaN</td>\n",
       "      <td>Mayur More, Jitendra Kumar, Ranjan Raj, Alam K...</td>\n",
       "      <td>India</td>\n",
       "      <td>September 24, 2021</td>\n",
       "      <td>2021</td>\n",
       "      <td>TV-MA</td>\n",
       "      <td>2 Seasons</td>\n",
       "      <td>International TV Shows, Romantic TV Shows, TV ...</td>\n",
       "      <td>In a city of coaching centers known to train I...</td>\n",
       "    </tr>\n",
       "  </tbody>\n",
       "</table>\n",
       "</div>"
      ],
      "text/plain": [
       "  show_id     type                  title         director  \\\n",
       "0      s1    Movie   Dick Johnson Is Dead  Kirsten Johnson   \n",
       "1      s2  TV Show          Blood & Water              NaN   \n",
       "2      s3  TV Show              Ganglands  Julien Leclercq   \n",
       "3      s4  TV Show  Jailbirds New Orleans              NaN   \n",
       "4      s5  TV Show           Kota Factory              NaN   \n",
       "\n",
       "                                                cast        country  \\\n",
       "0                                                NaN  United States   \n",
       "1  Ama Qamata, Khosi Ngema, Gail Mabalane, Thaban...   South Africa   \n",
       "2  Sami Bouajila, Tracy Gotoas, Samuel Jouy, Nabi...            NaN   \n",
       "3                                                NaN            NaN   \n",
       "4  Mayur More, Jitendra Kumar, Ranjan Raj, Alam K...          India   \n",
       "\n",
       "           date_added  release_year rating   duration  \\\n",
       "0  September 25, 2021          2020  PG-13     90 min   \n",
       "1  September 24, 2021          2021  TV-MA  2 Seasons   \n",
       "2  September 24, 2021          2021  TV-MA   1 Season   \n",
       "3  September 24, 2021          2021  TV-MA   1 Season   \n",
       "4  September 24, 2021          2021  TV-MA  2 Seasons   \n",
       "\n",
       "                                           listed_in  \\\n",
       "0                                      Documentaries   \n",
       "1    International TV Shows, TV Dramas, TV Mysteries   \n",
       "2  Crime TV Shows, International TV Shows, TV Act...   \n",
       "3                             Docuseries, Reality TV   \n",
       "4  International TV Shows, Romantic TV Shows, TV ...   \n",
       "\n",
       "                                         description  \n",
       "0  As her father nears the end of his life, filmm...  \n",
       "1  After crossing paths at a party, a Cape Town t...  \n",
       "2  To protect his family from a powerful drug lor...  \n",
       "3  Feuds, flirtations and toilet talk go down amo...  \n",
       "4  In a city of coaching centers known to train I...  "
      ]
     },
     "execution_count": 1,
     "metadata": {},
     "output_type": "execute_result"
    }
   ],
   "source": [
    "import pandas as pd\n",
    "df = pd.read_csv(\"E:/Downloads/My Projects with datasets/Netflix Dataset/netflix_titles.csv\")\n",
    "df.head()"
   ]
  },
  {
   "cell_type": "code",
   "execution_count": 2,
   "id": "05b82910-ab7a-4f28-9cf8-92d118f417c1",
   "metadata": {},
   "outputs": [
    {
     "data": {
      "text/html": [
       "<div>\n",
       "<style scoped>\n",
       "    .dataframe tbody tr th:only-of-type {\n",
       "        vertical-align: middle;\n",
       "    }\n",
       "\n",
       "    .dataframe tbody tr th {\n",
       "        vertical-align: top;\n",
       "    }\n",
       "\n",
       "    .dataframe thead th {\n",
       "        text-align: right;\n",
       "    }\n",
       "</style>\n",
       "<table border=\"1\" class=\"dataframe\">\n",
       "  <thead>\n",
       "    <tr style=\"text-align: right;\">\n",
       "      <th></th>\n",
       "      <th>show_id</th>\n",
       "      <th>title</th>\n",
       "      <th>director</th>\n",
       "      <th>cast</th>\n",
       "      <th>country</th>\n",
       "      <th>rating</th>\n",
       "      <th>listed_in</th>\n",
       "      <th>description</th>\n",
       "    </tr>\n",
       "  </thead>\n",
       "  <tbody>\n",
       "    <tr>\n",
       "      <th>0</th>\n",
       "      <td>s1</td>\n",
       "      <td>Dick Johnson Is Dead</td>\n",
       "      <td>Kirsten Johnson</td>\n",
       "      <td>NaN</td>\n",
       "      <td>United States</td>\n",
       "      <td>PG-13</td>\n",
       "      <td>Documentaries</td>\n",
       "      <td>As her father nears the end of his life, filmm...</td>\n",
       "    </tr>\n",
       "    <tr>\n",
       "      <th>1</th>\n",
       "      <td>s2</td>\n",
       "      <td>Blood &amp; Water</td>\n",
       "      <td>NaN</td>\n",
       "      <td>Ama Qamata, Khosi Ngema, Gail Mabalane, Thaban...</td>\n",
       "      <td>South Africa</td>\n",
       "      <td>TV-MA</td>\n",
       "      <td>International TV Shows, TV Dramas, TV Mysteries</td>\n",
       "      <td>After crossing paths at a party, a Cape Town t...</td>\n",
       "    </tr>\n",
       "    <tr>\n",
       "      <th>2</th>\n",
       "      <td>s3</td>\n",
       "      <td>Ganglands</td>\n",
       "      <td>Julien Leclercq</td>\n",
       "      <td>Sami Bouajila, Tracy Gotoas, Samuel Jouy, Nabi...</td>\n",
       "      <td>NaN</td>\n",
       "      <td>TV-MA</td>\n",
       "      <td>Crime TV Shows, International TV Shows, TV Act...</td>\n",
       "      <td>To protect his family from a powerful drug lor...</td>\n",
       "    </tr>\n",
       "    <tr>\n",
       "      <th>3</th>\n",
       "      <td>s4</td>\n",
       "      <td>Jailbirds New Orleans</td>\n",
       "      <td>NaN</td>\n",
       "      <td>NaN</td>\n",
       "      <td>NaN</td>\n",
       "      <td>TV-MA</td>\n",
       "      <td>Docuseries, Reality TV</td>\n",
       "      <td>Feuds, flirtations and toilet talk go down amo...</td>\n",
       "    </tr>\n",
       "    <tr>\n",
       "      <th>4</th>\n",
       "      <td>s5</td>\n",
       "      <td>Kota Factory</td>\n",
       "      <td>NaN</td>\n",
       "      <td>Mayur More, Jitendra Kumar, Ranjan Raj, Alam K...</td>\n",
       "      <td>India</td>\n",
       "      <td>TV-MA</td>\n",
       "      <td>International TV Shows, Romantic TV Shows, TV ...</td>\n",
       "      <td>In a city of coaching centers known to train I...</td>\n",
       "    </tr>\n",
       "  </tbody>\n",
       "</table>\n",
       "</div>"
      ],
      "text/plain": [
       "  show_id                  title         director  \\\n",
       "0      s1   Dick Johnson Is Dead  Kirsten Johnson   \n",
       "1      s2          Blood & Water              NaN   \n",
       "2      s3              Ganglands  Julien Leclercq   \n",
       "3      s4  Jailbirds New Orleans              NaN   \n",
       "4      s5           Kota Factory              NaN   \n",
       "\n",
       "                                                cast        country rating  \\\n",
       "0                                                NaN  United States  PG-13   \n",
       "1  Ama Qamata, Khosi Ngema, Gail Mabalane, Thaban...   South Africa  TV-MA   \n",
       "2  Sami Bouajila, Tracy Gotoas, Samuel Jouy, Nabi...            NaN  TV-MA   \n",
       "3                                                NaN            NaN  TV-MA   \n",
       "4  Mayur More, Jitendra Kumar, Ranjan Raj, Alam K...          India  TV-MA   \n",
       "\n",
       "                                           listed_in  \\\n",
       "0                                      Documentaries   \n",
       "1    International TV Shows, TV Dramas, TV Mysteries   \n",
       "2  Crime TV Shows, International TV Shows, TV Act...   \n",
       "3                             Docuseries, Reality TV   \n",
       "4  International TV Shows, Romantic TV Shows, TV ...   \n",
       "\n",
       "                                         description  \n",
       "0  As her father nears the end of his life, filmm...  \n",
       "1  After crossing paths at a party, a Cape Town t...  \n",
       "2  To protect his family from a powerful drug lor...  \n",
       "3  Feuds, flirtations and toilet talk go down amo...  \n",
       "4  In a city of coaching centers known to train I...  "
      ]
     },
     "execution_count": 2,
     "metadata": {},
     "output_type": "execute_result"
    }
   ],
   "source": [
    "df1 = df.drop([\"type\",\"date_added\",\"release_year\",\"duration\"],axis = 1)\n",
    "df1.head()"
   ]
  },
  {
   "cell_type": "code",
   "execution_count": 3,
   "id": "baf757de-5418-4bac-bd1f-3279c9b995b7",
   "metadata": {},
   "outputs": [
    {
     "data": {
      "text/plain": [
       "'Ama Qamata, Khosi Ngema, Gail Mabalane, Thabang Molaba, Dillon Windvogel, Natasha Thahane, Arno Greeff, Xolile Tshabalala, Getmore Sithole, Cindy Mahlangu, Ryle De Morny, Greteli Fincham, Sello Maake Ka-Ncube, Odwa Gwanya, Mekaila Mathys, Sandi Schultz, Duane Williams, Shamilla Miller, Patrick Mofokeng'"
      ]
     },
     "execution_count": 3,
     "metadata": {},
     "output_type": "execute_result"
    }
   ],
   "source": [
    "df1.cast[1]"
   ]
  },
  {
   "cell_type": "code",
   "execution_count": 4,
   "id": "a7e4da88-b784-4365-8bb5-66b31ef02faf",
   "metadata": {
    "scrolled": true
   },
   "outputs": [
    {
     "data": {
      "text/plain": [
       "0"
      ]
     },
     "execution_count": 4,
     "metadata": {},
     "output_type": "execute_result"
    }
   ],
   "source": [
    "df1['cast'] = df1['cast'].fillna(\"\")\n",
    "df1.cast.isna().sum()"
   ]
  },
  {
   "cell_type": "code",
   "execution_count": 5,
   "id": "e997769b-201c-4925-a3fb-66d68b232a15",
   "metadata": {},
   "outputs": [
    {
     "data": {
      "text/plain": [
       "show_id           0\n",
       "title             0\n",
       "director       2634\n",
       "cast              0\n",
       "country         831\n",
       "rating            4\n",
       "listed_in         0\n",
       "description       0\n",
       "dtype: int64"
      ]
     },
     "execution_count": 5,
     "metadata": {},
     "output_type": "execute_result"
    }
   ],
   "source": [
    "df1.isna().sum()"
   ]
  },
  {
   "cell_type": "code",
   "execution_count": 6,
   "id": "284b2478-2b69-4a86-ac09-3a815c804e50",
   "metadata": {},
   "outputs": [
    {
     "data": {
      "text/plain": [
       "(8807, 8)"
      ]
     },
     "execution_count": 6,
     "metadata": {},
     "output_type": "execute_result"
    }
   ],
   "source": [
    "df1.shape"
   ]
  },
  {
   "cell_type": "code",
   "execution_count": 7,
   "id": "15b7d591-ad0e-41fd-8c14-c2e86ebb3f5b",
   "metadata": {},
   "outputs": [
    {
     "data": {
      "text/plain": [
       "show_id        0\n",
       "title          0\n",
       "director       0\n",
       "cast           0\n",
       "country        0\n",
       "rating         0\n",
       "listed_in      0\n",
       "description    0\n",
       "dtype: int64"
      ]
     },
     "execution_count": 7,
     "metadata": {},
     "output_type": "execute_result"
    }
   ],
   "source": [
    "df1 = df1.fillna(\"\")\n",
    "df1.isna().sum()"
   ]
  },
  {
   "cell_type": "code",
   "execution_count": 8,
   "id": "93f44e50-aeec-4708-9ee1-9b57ab07a0e6",
   "metadata": {},
   "outputs": [
    {
     "data": {
      "text/html": [
       "<div>\n",
       "<style scoped>\n",
       "    .dataframe tbody tr th:only-of-type {\n",
       "        vertical-align: middle;\n",
       "    }\n",
       "\n",
       "    .dataframe tbody tr th {\n",
       "        vertical-align: top;\n",
       "    }\n",
       "\n",
       "    .dataframe thead th {\n",
       "        text-align: right;\n",
       "    }\n",
       "</style>\n",
       "<table border=\"1\" class=\"dataframe\">\n",
       "  <thead>\n",
       "    <tr style=\"text-align: right;\">\n",
       "      <th></th>\n",
       "      <th>show_id</th>\n",
       "      <th>title</th>\n",
       "      <th>director</th>\n",
       "      <th>cast</th>\n",
       "      <th>country</th>\n",
       "      <th>rating</th>\n",
       "      <th>listed_in</th>\n",
       "      <th>description</th>\n",
       "    </tr>\n",
       "  </thead>\n",
       "  <tbody>\n",
       "    <tr>\n",
       "      <th>0</th>\n",
       "      <td>s1</td>\n",
       "      <td>Dick Johnson Is Dead</td>\n",
       "      <td>Kirsten Johnson</td>\n",
       "      <td></td>\n",
       "      <td>United States</td>\n",
       "      <td>PG-13</td>\n",
       "      <td>Documentaries</td>\n",
       "      <td>As her father nears the end of his life, filmm...</td>\n",
       "    </tr>\n",
       "    <tr>\n",
       "      <th>1</th>\n",
       "      <td>s2</td>\n",
       "      <td>Blood &amp; Water</td>\n",
       "      <td></td>\n",
       "      <td>Ama Qamata, Khosi Ngema, Gail Mabalane, Thaban...</td>\n",
       "      <td>South Africa</td>\n",
       "      <td>TV-MA</td>\n",
       "      <td>International TV Shows, TV Dramas, TV Mysteries</td>\n",
       "      <td>After crossing paths at a party, a Cape Town t...</td>\n",
       "    </tr>\n",
       "    <tr>\n",
       "      <th>2</th>\n",
       "      <td>s3</td>\n",
       "      <td>Ganglands</td>\n",
       "      <td>Julien Leclercq</td>\n",
       "      <td>Sami Bouajila, Tracy Gotoas, Samuel Jouy, Nabi...</td>\n",
       "      <td></td>\n",
       "      <td>TV-MA</td>\n",
       "      <td>Crime TV Shows, International TV Shows, TV Act...</td>\n",
       "      <td>To protect his family from a powerful drug lor...</td>\n",
       "    </tr>\n",
       "    <tr>\n",
       "      <th>3</th>\n",
       "      <td>s4</td>\n",
       "      <td>Jailbirds New Orleans</td>\n",
       "      <td></td>\n",
       "      <td></td>\n",
       "      <td></td>\n",
       "      <td>TV-MA</td>\n",
       "      <td>Docuseries, Reality TV</td>\n",
       "      <td>Feuds, flirtations and toilet talk go down amo...</td>\n",
       "    </tr>\n",
       "    <tr>\n",
       "      <th>4</th>\n",
       "      <td>s5</td>\n",
       "      <td>Kota Factory</td>\n",
       "      <td></td>\n",
       "      <td>Mayur More, Jitendra Kumar, Ranjan Raj, Alam K...</td>\n",
       "      <td>India</td>\n",
       "      <td>TV-MA</td>\n",
       "      <td>International TV Shows, Romantic TV Shows, TV ...</td>\n",
       "      <td>In a city of coaching centers known to train I...</td>\n",
       "    </tr>\n",
       "  </tbody>\n",
       "</table>\n",
       "</div>"
      ],
      "text/plain": [
       "  show_id                  title         director  \\\n",
       "0      s1   Dick Johnson Is Dead  Kirsten Johnson   \n",
       "1      s2          Blood & Water                    \n",
       "2      s3              Ganglands  Julien Leclercq   \n",
       "3      s4  Jailbirds New Orleans                    \n",
       "4      s5           Kota Factory                    \n",
       "\n",
       "                                                cast        country rating  \\\n",
       "0                                                     United States  PG-13   \n",
       "1  Ama Qamata, Khosi Ngema, Gail Mabalane, Thaban...   South Africa  TV-MA   \n",
       "2  Sami Bouajila, Tracy Gotoas, Samuel Jouy, Nabi...                 TV-MA   \n",
       "3                                                                    TV-MA   \n",
       "4  Mayur More, Jitendra Kumar, Ranjan Raj, Alam K...          India  TV-MA   \n",
       "\n",
       "                                           listed_in  \\\n",
       "0                                      Documentaries   \n",
       "1    International TV Shows, TV Dramas, TV Mysteries   \n",
       "2  Crime TV Shows, International TV Shows, TV Act...   \n",
       "3                             Docuseries, Reality TV   \n",
       "4  International TV Shows, Romantic TV Shows, TV ...   \n",
       "\n",
       "                                         description  \n",
       "0  As her father nears the end of his life, filmm...  \n",
       "1  After crossing paths at a party, a Cape Town t...  \n",
       "2  To protect his family from a powerful drug lor...  \n",
       "3  Feuds, flirtations and toilet talk go down amo...  \n",
       "4  In a city of coaching centers known to train I...  "
      ]
     },
     "execution_count": 8,
     "metadata": {},
     "output_type": "execute_result"
    }
   ],
   "source": [
    "df1.head()"
   ]
  },
  {
   "cell_type": "code",
   "execution_count": 9,
   "id": "2592f628-abe2-4366-9a0c-ae15ff0cf304",
   "metadata": {},
   "outputs": [
    {
     "data": {
      "text/html": [
       "<div>\n",
       "<style scoped>\n",
       "    .dataframe tbody tr th:only-of-type {\n",
       "        vertical-align: middle;\n",
       "    }\n",
       "\n",
       "    .dataframe tbody tr th {\n",
       "        vertical-align: top;\n",
       "    }\n",
       "\n",
       "    .dataframe thead th {\n",
       "        text-align: right;\n",
       "    }\n",
       "</style>\n",
       "<table border=\"1\" class=\"dataframe\">\n",
       "  <thead>\n",
       "    <tr style=\"text-align: right;\">\n",
       "      <th></th>\n",
       "      <th>show_id</th>\n",
       "      <th>title</th>\n",
       "      <th>director</th>\n",
       "      <th>cast</th>\n",
       "      <th>country</th>\n",
       "      <th>rating</th>\n",
       "      <th>listed_in</th>\n",
       "      <th>description</th>\n",
       "      <th>text</th>\n",
       "    </tr>\n",
       "  </thead>\n",
       "  <tbody>\n",
       "    <tr>\n",
       "      <th>0</th>\n",
       "      <td>s1</td>\n",
       "      <td>Dick Johnson Is Dead</td>\n",
       "      <td>Kirsten Johnson</td>\n",
       "      <td></td>\n",
       "      <td>United States</td>\n",
       "      <td>PG-13</td>\n",
       "      <td>Documentaries</td>\n",
       "      <td>As her father nears the end of his life, filmm...</td>\n",
       "      <td>Kirsten Johnson . United States. PG-13. Docume...</td>\n",
       "    </tr>\n",
       "    <tr>\n",
       "      <th>1</th>\n",
       "      <td>s2</td>\n",
       "      <td>Blood &amp; Water</td>\n",
       "      <td></td>\n",
       "      <td>Ama Qamata, Khosi Ngema, Gail Mabalane, Thaban...</td>\n",
       "      <td>South Africa</td>\n",
       "      <td>TV-MA</td>\n",
       "      <td>International TV Shows, TV Dramas, TV Mysteries</td>\n",
       "      <td>After crossing paths at a party, a Cape Town t...</td>\n",
       "      <td>Ama Qamata, Khosi Ngema, Gail Mabalane, Thaba...</td>\n",
       "    </tr>\n",
       "    <tr>\n",
       "      <th>2</th>\n",
       "      <td>s3</td>\n",
       "      <td>Ganglands</td>\n",
       "      <td>Julien Leclercq</td>\n",
       "      <td>Sami Bouajila, Tracy Gotoas, Samuel Jouy, Nabi...</td>\n",
       "      <td></td>\n",
       "      <td>TV-MA</td>\n",
       "      <td>Crime TV Shows, International TV Shows, TV Act...</td>\n",
       "      <td>To protect his family from a powerful drug lor...</td>\n",
       "      <td>Julien Leclercq Sami Bouajila, Tracy Gotoas, S...</td>\n",
       "    </tr>\n",
       "    <tr>\n",
       "      <th>3</th>\n",
       "      <td>s4</td>\n",
       "      <td>Jailbirds New Orleans</td>\n",
       "      <td></td>\n",
       "      <td></td>\n",
       "      <td></td>\n",
       "      <td>TV-MA</td>\n",
       "      <td>Docuseries, Reality TV</td>\n",
       "      <td>Feuds, flirtations and toilet talk go down amo...</td>\n",
       "      <td>. . TV-MA. Docuseries, Reality TV. Feuds, fli...</td>\n",
       "    </tr>\n",
       "    <tr>\n",
       "      <th>4</th>\n",
       "      <td>s5</td>\n",
       "      <td>Kota Factory</td>\n",
       "      <td></td>\n",
       "      <td>Mayur More, Jitendra Kumar, Ranjan Raj, Alam K...</td>\n",
       "      <td>India</td>\n",
       "      <td>TV-MA</td>\n",
       "      <td>International TV Shows, Romantic TV Shows, TV ...</td>\n",
       "      <td>In a city of coaching centers known to train I...</td>\n",
       "      <td>Mayur More, Jitendra Kumar, Ranjan Raj, Alam ...</td>\n",
       "    </tr>\n",
       "  </tbody>\n",
       "</table>\n",
       "</div>"
      ],
      "text/plain": [
       "  show_id                  title         director  \\\n",
       "0      s1   Dick Johnson Is Dead  Kirsten Johnson   \n",
       "1      s2          Blood & Water                    \n",
       "2      s3              Ganglands  Julien Leclercq   \n",
       "3      s4  Jailbirds New Orleans                    \n",
       "4      s5           Kota Factory                    \n",
       "\n",
       "                                                cast        country rating  \\\n",
       "0                                                     United States  PG-13   \n",
       "1  Ama Qamata, Khosi Ngema, Gail Mabalane, Thaban...   South Africa  TV-MA   \n",
       "2  Sami Bouajila, Tracy Gotoas, Samuel Jouy, Nabi...                 TV-MA   \n",
       "3                                                                    TV-MA   \n",
       "4  Mayur More, Jitendra Kumar, Ranjan Raj, Alam K...          India  TV-MA   \n",
       "\n",
       "                                           listed_in  \\\n",
       "0                                      Documentaries   \n",
       "1    International TV Shows, TV Dramas, TV Mysteries   \n",
       "2  Crime TV Shows, International TV Shows, TV Act...   \n",
       "3                             Docuseries, Reality TV   \n",
       "4  International TV Shows, Romantic TV Shows, TV ...   \n",
       "\n",
       "                                         description  \\\n",
       "0  As her father nears the end of his life, filmm...   \n",
       "1  After crossing paths at a party, a Cape Town t...   \n",
       "2  To protect his family from a powerful drug lor...   \n",
       "3  Feuds, flirtations and toilet talk go down amo...   \n",
       "4  In a city of coaching centers known to train I...   \n",
       "\n",
       "                                                text  \n",
       "0  Kirsten Johnson . United States. PG-13. Docume...  \n",
       "1   Ama Qamata, Khosi Ngema, Gail Mabalane, Thaba...  \n",
       "2  Julien Leclercq Sami Bouajila, Tracy Gotoas, S...  \n",
       "3   . . TV-MA. Docuseries, Reality TV. Feuds, fli...  \n",
       "4   Mayur More, Jitendra Kumar, Ranjan Raj, Alam ...  "
      ]
     },
     "execution_count": 9,
     "metadata": {},
     "output_type": "execute_result"
    }
   ],
   "source": [
    "df1['text'] = df1['director'] + \" \" + df1['cast']+\". \"+df1['country']+\". \"+df1['rating']+\". \"+df1['listed_in']+\". \"+df1['description']\n",
    "df1.head()"
   ]
  },
  {
   "cell_type": "code",
   "execution_count": 10,
   "id": "a9615133-65d6-4372-883a-1154ec1b0458",
   "metadata": {},
   "outputs": [
    {
     "data": {
      "text/html": [
       "<div>\n",
       "<style scoped>\n",
       "    .dataframe tbody tr th:only-of-type {\n",
       "        vertical-align: middle;\n",
       "    }\n",
       "\n",
       "    .dataframe tbody tr th {\n",
       "        vertical-align: top;\n",
       "    }\n",
       "\n",
       "    .dataframe thead th {\n",
       "        text-align: right;\n",
       "    }\n",
       "</style>\n",
       "<table border=\"1\" class=\"dataframe\">\n",
       "  <thead>\n",
       "    <tr style=\"text-align: right;\">\n",
       "      <th></th>\n",
       "      <th>show_id</th>\n",
       "      <th>title</th>\n",
       "      <th>text</th>\n",
       "    </tr>\n",
       "  </thead>\n",
       "  <tbody>\n",
       "    <tr>\n",
       "      <th>0</th>\n",
       "      <td>s1</td>\n",
       "      <td>Dick Johnson Is Dead</td>\n",
       "      <td>Kirsten Johnson . United States. PG-13. Docume...</td>\n",
       "    </tr>\n",
       "    <tr>\n",
       "      <th>1</th>\n",
       "      <td>s2</td>\n",
       "      <td>Blood &amp; Water</td>\n",
       "      <td>Ama Qamata, Khosi Ngema, Gail Mabalane, Thaba...</td>\n",
       "    </tr>\n",
       "    <tr>\n",
       "      <th>2</th>\n",
       "      <td>s3</td>\n",
       "      <td>Ganglands</td>\n",
       "      <td>Julien Leclercq Sami Bouajila, Tracy Gotoas, S...</td>\n",
       "    </tr>\n",
       "    <tr>\n",
       "      <th>3</th>\n",
       "      <td>s4</td>\n",
       "      <td>Jailbirds New Orleans</td>\n",
       "      <td>. . TV-MA. Docuseries, Reality TV. Feuds, fli...</td>\n",
       "    </tr>\n",
       "    <tr>\n",
       "      <th>4</th>\n",
       "      <td>s5</td>\n",
       "      <td>Kota Factory</td>\n",
       "      <td>Mayur More, Jitendra Kumar, Ranjan Raj, Alam ...</td>\n",
       "    </tr>\n",
       "  </tbody>\n",
       "</table>\n",
       "</div>"
      ],
      "text/plain": [
       "  show_id                  title  \\\n",
       "0      s1   Dick Johnson Is Dead   \n",
       "1      s2          Blood & Water   \n",
       "2      s3              Ganglands   \n",
       "3      s4  Jailbirds New Orleans   \n",
       "4      s5           Kota Factory   \n",
       "\n",
       "                                                text  \n",
       "0  Kirsten Johnson . United States. PG-13. Docume...  \n",
       "1   Ama Qamata, Khosi Ngema, Gail Mabalane, Thaba...  \n",
       "2  Julien Leclercq Sami Bouajila, Tracy Gotoas, S...  \n",
       "3   . . TV-MA. Docuseries, Reality TV. Feuds, fli...  \n",
       "4   Mayur More, Jitendra Kumar, Ranjan Raj, Alam ...  "
      ]
     },
     "execution_count": 10,
     "metadata": {},
     "output_type": "execute_result"
    }
   ],
   "source": [
    "df2 = df1[['show_id','title',\"text\"]]\n",
    "df2.head()"
   ]
  },
  {
   "cell_type": "markdown",
   "id": "c888043a-9d8e-4bc5-86ee-209f39cf9554",
   "metadata": {},
   "source": [
    "### Creating Word Vectors using Word2vec :"
   ]
  },
  {
   "cell_type": "code",
   "execution_count": 11,
   "id": "dcb4ad05-7bf3-4507-9951-57151e30e16c",
   "metadata": {},
   "outputs": [],
   "source": [
    "import gensim\n",
    "from gensim.models import Word2Vec"
   ]
  },
  {
   "cell_type": "code",
   "execution_count": 13,
   "id": "b7bed48a-52c1-456c-8da7-6d2ada884bb2",
   "metadata": {},
   "outputs": [
    {
     "data": {
      "text/html": [
       "<div>\n",
       "<style scoped>\n",
       "    .dataframe tbody tr th:only-of-type {\n",
       "        vertical-align: middle;\n",
       "    }\n",
       "\n",
       "    .dataframe tbody tr th {\n",
       "        vertical-align: top;\n",
       "    }\n",
       "\n",
       "    .dataframe thead th {\n",
       "        text-align: right;\n",
       "    }\n",
       "</style>\n",
       "<table border=\"1\" class=\"dataframe\">\n",
       "  <thead>\n",
       "    <tr style=\"text-align: right;\">\n",
       "      <th></th>\n",
       "      <th>title</th>\n",
       "      <th>text</th>\n",
       "      <th>pre</th>\n",
       "    </tr>\n",
       "  </thead>\n",
       "  <tbody>\n",
       "    <tr>\n",
       "      <th>0</th>\n",
       "      <td>Dick Johnson Is Dead</td>\n",
       "      <td>Kirsten Johnson . United States. PG-13. Docume...</td>\n",
       "      <td>[kirsten, johnson, united, states, pg, documen...</td>\n",
       "    </tr>\n",
       "    <tr>\n",
       "      <th>1</th>\n",
       "      <td>Blood &amp; Water</td>\n",
       "      <td>Ama Qamata, Khosi Ngema, Gail Mabalane, Thaba...</td>\n",
       "      <td>[ama, qamata, khosi, ngema, gail, mabalane, th...</td>\n",
       "    </tr>\n",
       "    <tr>\n",
       "      <th>2</th>\n",
       "      <td>Ganglands</td>\n",
       "      <td>Julien Leclercq Sami Bouajila, Tracy Gotoas, S...</td>\n",
       "      <td>[julien, leclercq, sami, bouajila, tracy, goto...</td>\n",
       "    </tr>\n",
       "    <tr>\n",
       "      <th>3</th>\n",
       "      <td>Jailbirds New Orleans</td>\n",
       "      <td>. . TV-MA. Docuseries, Reality TV. Feuds, fli...</td>\n",
       "      <td>[tv, ma, docuseries, reality, tv, feuds, flirt...</td>\n",
       "    </tr>\n",
       "    <tr>\n",
       "      <th>4</th>\n",
       "      <td>Kota Factory</td>\n",
       "      <td>Mayur More, Jitendra Kumar, Ranjan Raj, Alam ...</td>\n",
       "      <td>[mayur, more, jitendra, kumar, ranjan, raj, al...</td>\n",
       "    </tr>\n",
       "  </tbody>\n",
       "</table>\n",
       "</div>"
      ],
      "text/plain": [
       "                   title                                               text  \\\n",
       "0   Dick Johnson Is Dead  Kirsten Johnson . United States. PG-13. Docume...   \n",
       "1          Blood & Water   Ama Qamata, Khosi Ngema, Gail Mabalane, Thaba...   \n",
       "2              Ganglands  Julien Leclercq Sami Bouajila, Tracy Gotoas, S...   \n",
       "3  Jailbirds New Orleans   . . TV-MA. Docuseries, Reality TV. Feuds, fli...   \n",
       "4           Kota Factory   Mayur More, Jitendra Kumar, Ranjan Raj, Alam ...   \n",
       "\n",
       "                                                 pre  \n",
       "0  [kirsten, johnson, united, states, pg, documen...  \n",
       "1  [ama, qamata, khosi, ngema, gail, mabalane, th...  \n",
       "2  [julien, leclercq, sami, bouajila, tracy, goto...  \n",
       "3  [tv, ma, docuseries, reality, tv, feuds, flirt...  \n",
       "4  [mayur, more, jitendra, kumar, ranjan, raj, al...  "
      ]
     },
     "execution_count": 13,
     "metadata": {},
     "output_type": "execute_result"
    }
   ],
   "source": [
    "df3 = df2.drop(\"show_id\",axis = 1)\n",
    "df3['pre'] = df3.text.apply(gensim.utils.simple_preprocess)\n",
    "df3.head()"
   ]
  },
  {
   "cell_type": "code",
   "execution_count": 15,
   "id": "1267fdd1-c763-4fdf-8921-660995005f90",
   "metadata": {},
   "outputs": [
    {
     "data": {
      "text/plain": [
       "'Kirsten Johnson . United States. PG-13. Documentaries. As her father nears the end of his life, filmmaker Kirsten Johnson stages his death in inventive and comical ways to help them both face the inevitable.'"
      ]
     },
     "execution_count": 15,
     "metadata": {},
     "output_type": "execute_result"
    }
   ],
   "source": [
    "df3.text[0]"
   ]
  },
  {
   "cell_type": "code",
   "execution_count": 14,
   "id": "39167188-fe10-49e2-a275-eec48bd77f4b",
   "metadata": {
    "scrolled": true
   },
   "outputs": [
    {
     "data": {
      "text/plain": [
       "['kirsten',\n",
       " 'johnson',\n",
       " 'united',\n",
       " 'states',\n",
       " 'pg',\n",
       " 'documentaries',\n",
       " 'as',\n",
       " 'her',\n",
       " 'father',\n",
       " 'nears',\n",
       " 'the',\n",
       " 'end',\n",
       " 'of',\n",
       " 'his',\n",
       " 'life',\n",
       " 'filmmaker',\n",
       " 'kirsten',\n",
       " 'johnson',\n",
       " 'stages',\n",
       " 'his',\n",
       " 'death',\n",
       " 'in',\n",
       " 'inventive',\n",
       " 'and',\n",
       " 'comical',\n",
       " 'ways',\n",
       " 'to',\n",
       " 'help',\n",
       " 'them',\n",
       " 'both',\n",
       " 'face',\n",
       " 'the',\n",
       " 'inevitable']"
      ]
     },
     "execution_count": 14,
     "metadata": {},
     "output_type": "execute_result"
    }
   ],
   "source": [
    "df3.pre[0]"
   ]
  },
  {
   "cell_type": "code",
   "execution_count": 16,
   "id": "fd3b3a91-58ac-4ce4-9651-ff2c7a56f9ae",
   "metadata": {},
   "outputs": [],
   "source": [
    "model = Word2Vec(\n",
    "    window = 6,\n",
    "    min_count= 5,\n",
    "    workers = 4\n",
    ")"
   ]
  },
  {
   "cell_type": "code",
   "execution_count": 17,
   "id": "13b8ec65-7fbd-4d27-be3c-77d11fdff7ff",
   "metadata": {},
   "outputs": [],
   "source": [
    "model.build_vocab(df3.pre)"
   ]
  },
  {
   "cell_type": "code",
   "execution_count": 18,
   "id": "3569c10d-a5b3-41c3-a5f5-8e06de4dc7f7",
   "metadata": {},
   "outputs": [
    {
     "data": {
      "text/plain": [
       "8807"
      ]
     },
     "execution_count": 18,
     "metadata": {},
     "output_type": "execute_result"
    }
   ],
   "source": [
    "model.corpus_count"
   ]
  },
  {
   "cell_type": "code",
   "execution_count": 19,
   "id": "99090ead-6739-4c20-9c08-279afbd9e603",
   "metadata": {},
   "outputs": [
    {
     "data": {
      "text/plain": [
       "(14572338, 20673150)"
      ]
     },
     "execution_count": 19,
     "metadata": {},
     "output_type": "execute_result"
    }
   ],
   "source": [
    "model.train(df3.pre, total_examples=model.corpus_count, epochs = 50)"
   ]
  },
  {
   "cell_type": "code",
   "execution_count": 21,
   "id": "f16979bf-a55a-475f-ab27-4014441462a4",
   "metadata": {},
   "outputs": [],
   "source": [
    "import numpy as np"
   ]
  },
  {
   "cell_type": "markdown",
   "id": "da0b7a48-ff82-4eeb-ac51-49b4f448949e",
   "metadata": {},
   "source": [
    "### *Function for creating word vectors*:"
   ]
  },
  {
   "cell_type": "code",
   "execution_count": 27,
   "id": "687963dc-3f44-4182-ae06-5b54b78320d5",
   "metadata": {},
   "outputs": [],
   "source": [
    "def word_to_vev(df,model):\n",
    "    vec = [model.wv[word] for word in df if word in model.wv ]\n",
    "    return np.mean(vec,axis = 0) if vec else np.zeros(model.vector_size)"
   ]
  },
  {
   "cell_type": "code",
   "execution_count": 28,
   "id": "d71c7be5-3b63-4640-918d-0ddb4cbd8397",
   "metadata": {
    "scrolled": true
   },
   "outputs": [
    {
     "data": {
      "text/html": [
       "<div>\n",
       "<style scoped>\n",
       "    .dataframe tbody tr th:only-of-type {\n",
       "        vertical-align: middle;\n",
       "    }\n",
       "\n",
       "    .dataframe tbody tr th {\n",
       "        vertical-align: top;\n",
       "    }\n",
       "\n",
       "    .dataframe thead th {\n",
       "        text-align: right;\n",
       "    }\n",
       "</style>\n",
       "<table border=\"1\" class=\"dataframe\">\n",
       "  <thead>\n",
       "    <tr style=\"text-align: right;\">\n",
       "      <th></th>\n",
       "      <th>title</th>\n",
       "      <th>text</th>\n",
       "      <th>pre</th>\n",
       "      <th>vectors</th>\n",
       "    </tr>\n",
       "  </thead>\n",
       "  <tbody>\n",
       "    <tr>\n",
       "      <th>0</th>\n",
       "      <td>Dick Johnson Is Dead</td>\n",
       "      <td>Kirsten Johnson . United States. PG-13. Docume...</td>\n",
       "      <td>[kirsten, johnson, united, states, pg, documen...</td>\n",
       "      <td>[-0.11230055, 0.40650758, -0.33097607, -1.5762...</td>\n",
       "    </tr>\n",
       "    <tr>\n",
       "      <th>1</th>\n",
       "      <td>Blood &amp; Water</td>\n",
       "      <td>Ama Qamata, Khosi Ngema, Gail Mabalane, Thaba...</td>\n",
       "      <td>[ama, qamata, khosi, ngema, gail, mabalane, th...</td>\n",
       "      <td>[0.35718685, 0.5170654, -0.58824915, -0.389788...</td>\n",
       "    </tr>\n",
       "    <tr>\n",
       "      <th>2</th>\n",
       "      <td>Ganglands</td>\n",
       "      <td>Julien Leclercq Sami Bouajila, Tracy Gotoas, S...</td>\n",
       "      <td>[julien, leclercq, sami, bouajila, tracy, goto...</td>\n",
       "      <td>[-0.29257604, 0.0019006396, -0.4927487, -0.596...</td>\n",
       "    </tr>\n",
       "    <tr>\n",
       "      <th>3</th>\n",
       "      <td>Jailbirds New Orleans</td>\n",
       "      <td>. . TV-MA. Docuseries, Reality TV. Feuds, fli...</td>\n",
       "      <td>[tv, ma, docuseries, reality, tv, feuds, flirt...</td>\n",
       "      <td>[-0.014827518, 0.8608093, -0.44325358, -0.2874...</td>\n",
       "    </tr>\n",
       "    <tr>\n",
       "      <th>4</th>\n",
       "      <td>Kota Factory</td>\n",
       "      <td>Mayur More, Jitendra Kumar, Ranjan Raj, Alam ...</td>\n",
       "      <td>[mayur, more, jitendra, kumar, ranjan, raj, al...</td>\n",
       "      <td>[-0.50537944, 0.35977322, -0.9136439, -0.11863...</td>\n",
       "    </tr>\n",
       "  </tbody>\n",
       "</table>\n",
       "</div>"
      ],
      "text/plain": [
       "                   title                                               text  \\\n",
       "0   Dick Johnson Is Dead  Kirsten Johnson . United States. PG-13. Docume...   \n",
       "1          Blood & Water   Ama Qamata, Khosi Ngema, Gail Mabalane, Thaba...   \n",
       "2              Ganglands  Julien Leclercq Sami Bouajila, Tracy Gotoas, S...   \n",
       "3  Jailbirds New Orleans   . . TV-MA. Docuseries, Reality TV. Feuds, fli...   \n",
       "4           Kota Factory   Mayur More, Jitendra Kumar, Ranjan Raj, Alam ...   \n",
       "\n",
       "                                                 pre  \\\n",
       "0  [kirsten, johnson, united, states, pg, documen...   \n",
       "1  [ama, qamata, khosi, ngema, gail, mabalane, th...   \n",
       "2  [julien, leclercq, sami, bouajila, tracy, goto...   \n",
       "3  [tv, ma, docuseries, reality, tv, feuds, flirt...   \n",
       "4  [mayur, more, jitendra, kumar, ranjan, raj, al...   \n",
       "\n",
       "                                             vectors  \n",
       "0  [-0.11230055, 0.40650758, -0.33097607, -1.5762...  \n",
       "1  [0.35718685, 0.5170654, -0.58824915, -0.389788...  \n",
       "2  [-0.29257604, 0.0019006396, -0.4927487, -0.596...  \n",
       "3  [-0.014827518, 0.8608093, -0.44325358, -0.2874...  \n",
       "4  [-0.50537944, 0.35977322, -0.9136439, -0.11863...  "
      ]
     },
     "execution_count": 28,
     "metadata": {},
     "output_type": "execute_result"
    }
   ],
   "source": [
    "df3['vectors'] = df3.pre.apply(lambda x: word_to_vev(x,model))\n",
    "df3.head()"
   ]
  },
  {
   "cell_type": "code",
   "execution_count": 29,
   "id": "c4535c1c-d2e1-4d67-a5f2-dd71e08e7481",
   "metadata": {},
   "outputs": [
    {
     "data": {
      "text/plain": [
       "array([-0.11230055,  0.40650758, -0.33097607, -1.5762104 ,  0.8970274 ,\n",
       "        1.1238428 , -0.23529656, -0.9149384 ,  0.8307684 ,  0.5836787 ,\n",
       "       -0.27742657,  0.42005342,  0.17096531, -0.15025154, -0.67068964,\n",
       "        0.45573416, -0.44610304,  1.2781888 , -0.16758502,  1.3035902 ,\n",
       "        0.17687616, -0.75001496, -0.23401453, -0.18462914, -0.5424387 ,\n",
       "        0.13150513,  1.0866696 , -0.91662747, -0.28813985, -0.37234402,\n",
       "       -0.6200152 , -0.47989872, -0.37888414,  0.29201493,  0.5042113 ,\n",
       "       -0.789216  ,  0.57927763,  1.0290595 ,  0.7160699 ,  0.6202502 ,\n",
       "        0.9240765 ,  0.37649444,  0.04568987,  0.01868076, -0.7565444 ,\n",
       "       -0.27278665,  0.97693485, -0.05749008, -0.08675465, -0.43411016,\n",
       "       -0.21090151, -1.0318936 ,  0.88386804, -0.6962973 , -0.24615034,\n",
       "        0.16530433,  0.45073682,  0.15723638, -0.41266286, -0.16178595,\n",
       "        0.19942735,  0.24537876,  0.67287946,  0.10548273, -0.24674717,\n",
       "       -1.0639845 , -0.8794299 , -0.44686002,  0.68535334, -0.60275173,\n",
       "        0.3492149 , -0.7349275 , -0.12446314,  0.8449056 , -0.6158309 ,\n",
       "        0.53479624,  0.17173055, -0.26274574, -0.1959769 , -0.19947074,\n",
       "        0.537333  ,  0.4711321 ,  1.227494  , -0.02660705,  0.33184168,\n",
       "       -0.75896466, -0.7524664 ,  0.43160033, -0.4126483 , -1.1050127 ,\n",
       "       -0.1284535 , -0.11555149,  0.29845908, -0.33532354, -0.92548203,\n",
       "       -0.6224828 ,  0.7459851 , -0.27440944,  0.40026832,  0.07708029],\n",
       "      dtype=float32)"
      ]
     },
     "execution_count": 29,
     "metadata": {},
     "output_type": "execute_result"
    }
   ],
   "source": [
    "df3.vectors[0]"
   ]
  },
  {
   "cell_type": "code",
   "execution_count": 31,
   "id": "2ba483c9-2b40-40e2-b76a-fd7bc5c54770",
   "metadata": {
    "scrolled": true
   },
   "outputs": [
    {
     "data": {
      "text/html": [
       "<div>\n",
       "<style scoped>\n",
       "    .dataframe tbody tr th:only-of-type {\n",
       "        vertical-align: middle;\n",
       "    }\n",
       "\n",
       "    .dataframe tbody tr th {\n",
       "        vertical-align: top;\n",
       "    }\n",
       "\n",
       "    .dataframe thead th {\n",
       "        text-align: right;\n",
       "    }\n",
       "</style>\n",
       "<table border=\"1\" class=\"dataframe\">\n",
       "  <thead>\n",
       "    <tr style=\"text-align: right;\">\n",
       "      <th></th>\n",
       "      <th>title</th>\n",
       "      <th>vectors</th>\n",
       "    </tr>\n",
       "  </thead>\n",
       "  <tbody>\n",
       "    <tr>\n",
       "      <th>0</th>\n",
       "      <td>Dick Johnson Is Dead</td>\n",
       "      <td>[-0.11230055, 0.40650758, -0.33097607, -1.5762...</td>\n",
       "    </tr>\n",
       "    <tr>\n",
       "      <th>1</th>\n",
       "      <td>Blood &amp; Water</td>\n",
       "      <td>[0.35718685, 0.5170654, -0.58824915, -0.389788...</td>\n",
       "    </tr>\n",
       "    <tr>\n",
       "      <th>2</th>\n",
       "      <td>Ganglands</td>\n",
       "      <td>[-0.29257604, 0.0019006396, -0.4927487, -0.596...</td>\n",
       "    </tr>\n",
       "    <tr>\n",
       "      <th>3</th>\n",
       "      <td>Jailbirds New Orleans</td>\n",
       "      <td>[-0.014827518, 0.8608093, -0.44325358, -0.2874...</td>\n",
       "    </tr>\n",
       "    <tr>\n",
       "      <th>4</th>\n",
       "      <td>Kota Factory</td>\n",
       "      <td>[-0.50537944, 0.35977322, -0.9136439, -0.11863...</td>\n",
       "    </tr>\n",
       "  </tbody>\n",
       "</table>\n",
       "</div>"
      ],
      "text/plain": [
       "                   title                                            vectors\n",
       "0   Dick Johnson Is Dead  [-0.11230055, 0.40650758, -0.33097607, -1.5762...\n",
       "1          Blood & Water  [0.35718685, 0.5170654, -0.58824915, -0.389788...\n",
       "2              Ganglands  [-0.29257604, 0.0019006396, -0.4927487, -0.596...\n",
       "3  Jailbirds New Orleans  [-0.014827518, 0.8608093, -0.44325358, -0.2874...\n",
       "4           Kota Factory  [-0.50537944, 0.35977322, -0.9136439, -0.11863..."
      ]
     },
     "execution_count": 31,
     "metadata": {},
     "output_type": "execute_result"
    }
   ],
   "source": [
    "df4 = df3.drop([\"text\",\"pre\"],axis = 1)\n",
    "df4.head()"
   ]
  },
  {
   "cell_type": "markdown",
   "id": "1ec90dee-31df-498f-be66-ad30036c5265",
   "metadata": {},
   "source": [
    "## Using Cosine Similarity to Recommend Series:"
   ]
  },
  {
   "cell_type": "code",
   "execution_count": 33,
   "id": "b2500f54-dc11-42a5-ab44-05f32793dacb",
   "metadata": {
    "scrolled": true
   },
   "outputs": [],
   "source": [
    "from sklearn.metrics.pairwise import cosine_similarity\n",
    "sim = cosine_similarity(df3.vectors.tolist(),df3.vectors.tolist())"
   ]
  },
  {
   "cell_type": "code",
   "execution_count": 34,
   "id": "bb05fae2-e497-4e2e-b9d4-24fd28f1619c",
   "metadata": {
    "scrolled": true
   },
   "outputs": [
    {
     "data": {
      "text/plain": [
       "array([[1.0000001 , 0.55135655, 0.6481762 , ..., 0.7009635 , 0.5154631 ,\n",
       "        0.70142466],\n",
       "       [0.55135655, 0.99999994, 0.72050184, ..., 0.51545745, 0.43679932,\n",
       "        0.60865   ],\n",
       "       [0.6481762 , 0.72050184, 1.0000001 , ..., 0.5285745 , 0.5057335 ,\n",
       "        0.6804541 ],\n",
       "       ...,\n",
       "       [0.7009635 , 0.51545745, 0.5285745 , ..., 1.0000002 , 0.6996415 ,\n",
       "        0.5297513 ],\n",
       "       [0.5154631 , 0.43679932, 0.5057335 , ..., 0.6996415 , 0.99999994,\n",
       "        0.43645346],\n",
       "       [0.70142466, 0.60865   , 0.6804541 , ..., 0.5297513 , 0.43645346,\n",
       "        0.9999998 ]], dtype=float32)"
      ]
     },
     "execution_count": 34,
     "metadata": {},
     "output_type": "execute_result"
    }
   ],
   "source": [
    "sim"
   ]
  },
  {
   "cell_type": "code",
   "execution_count": 38,
   "id": "5e156283-ed28-438e-9566-2453efbd0836",
   "metadata": {},
   "outputs": [
    {
     "data": {
      "text/plain": [
       "Index([1], dtype='int64')"
      ]
     },
     "execution_count": 38,
     "metadata": {},
     "output_type": "execute_result"
    }
   ],
   "source": [
    "df3[df3.title == \"Blood & Water\"].index"
   ]
  },
  {
   "cell_type": "code",
   "execution_count": 47,
   "id": "27cdffaf-7a60-43bf-aa45-834496eb349f",
   "metadata": {},
   "outputs": [
    {
     "data": {
      "text/plain": [
       "[(0,\n",
       "  array([0.55135655, 0.99999994, 0.72050184, ..., 0.51545745, 0.43679932,\n",
       "         0.60865   ], dtype=float32))]"
      ]
     },
     "execution_count": 47,
     "metadata": {},
     "output_type": "execute_result"
    }
   ],
   "source": [
    "list(enumerate(sim[df3[df3.title == \"Blood & Water\"].index]))"
   ]
  },
  {
   "cell_type": "code",
   "execution_count": 53,
   "id": "37383ef5-1500-484e-a76e-21ae8cb8cc10",
   "metadata": {},
   "outputs": [
    {
     "name": "stdout",
     "output_type": "stream",
     "text": [
      "[0.55135655 0.99999994 0.72050184 ... 0.51545745 0.43679932 0.60865   ]\n",
      "[0.6481762  0.72050184 1.0000001  ... 0.5285745  0.5057335  0.6804541 ]\n",
      "[0.6907696  0.701985   0.7103765  ... 0.5347943  0.40951678 0.5560862 ]\n",
      "[0.55082494 0.7347889  0.7271406  ... 0.45915443 0.4149417  0.80949426]\n"
     ]
    }
   ],
   "source": [
    "for i in sim[1:5]:\n",
    "    print(i)"
   ]
  },
  {
   "cell_type": "markdown",
   "id": "69c6ca35-1c36-4265-a104-4cb531a150e3",
   "metadata": {},
   "source": [
    "### ***Function to recommend series:***"
   ]
  },
  {
   "cell_type": "code",
   "execution_count": 73,
   "id": "83bb38dd-c141-4e69-9541-9a23afbe87b0",
   "metadata": {},
   "outputs": [],
   "source": [
    "def recommend_series(title, top_n):\n",
    "    idx = df3[df3.title == title].index[0]\n",
    "    sm = list(enumerate(sim[idx]))\n",
    "    soretd_list = sorted(sm, key =lambda x: x[1], reverse=True)\n",
    "    top_indices = [i[0] for i in soretd_list[1:top_n + 1]]\n",
    "    return df3.title.iloc[top_indices]"
   ]
  },
  {
   "cell_type": "code",
   "execution_count": 78,
   "id": "6de61bcc-2376-46e7-a41a-6bec89839e8b",
   "metadata": {
    "scrolled": true
   },
   "outputs": [
    {
     "data": {
      "text/plain": [
       "1383                         Blown Away\n",
       "3286                    My Dear Warrior\n",
       "6763                    Fit for Fashion\n",
       "1442         Korean Pork Belly Rhapsody\n",
       "2657                 Win the Wilderness\n",
       "8199                       The Bachelor\n",
       "3796    Hyper HardBoiled Gourmet Report\n",
       "Name: title, dtype: object"
      ]
     },
     "execution_count": 78,
     "metadata": {},
     "output_type": "execute_result"
    }
   ],
   "source": [
    "title = \"Love on the Spectrum\"\n",
    "recommend_series(title,7)"
   ]
  },
  {
   "cell_type": "code",
   "execution_count": null,
   "id": "b14c50ce-1da8-44a6-b773-2f363d60a0ad",
   "metadata": {},
   "outputs": [],
   "source": []
  }
 ],
 "metadata": {
  "kernelspec": {
   "display_name": "Python 3 (ipykernel)",
   "language": "python",
   "name": "python3"
  },
  "language_info": {
   "codemirror_mode": {
    "name": "ipython",
    "version": 3
   },
   "file_extension": ".py",
   "mimetype": "text/x-python",
   "name": "python",
   "nbconvert_exporter": "python",
   "pygments_lexer": "ipython3",
   "version": "3.12.7"
  }
 },
 "nbformat": 4,
 "nbformat_minor": 5
}
